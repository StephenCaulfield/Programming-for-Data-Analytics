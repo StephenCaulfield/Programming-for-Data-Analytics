{
 "cells": [
  {
   "cell_type": "markdown",
   "id": "242da76c",
   "metadata": {},
   "source": [
    "# Programming-for-Data-Analysis-Project-2022\n",
    "===============================================================================================================================\n",
    "\n",
    "# 1.Introduction\n",
    "    \n",
    "<p> For This Project I will be sythesizing a data set which details the sinking of the Titanic and analyzing the survival rate of people based on age, gender and class and their relationships to eachother. I will detail later in my investigation that I have done to substanciate my findings.</p>\n",
    "\n",
    "## 1.1 Project Statement\n",
    "\n",
    "* This project code and report is implemented on Jupyter notebook.\n",
    "* I am to create a synthesized or simulated data set using a real world phenomenon of my choosing(Survivors of the Titanic).\n",
    "* I will use python with the numpy package to create the distribution models.\n",
    "* I will determine what distribution models I should use through research on the topic.\n",
    "* I will discuss the output of my analysis a make a determination as to it's significance.\n",
    "\n",
    "## 1.2 Reasons for Simulating Data\n",
    "\n",
    "<p>I will detail the advantages and disadvantages of simulating a data set to imitate social phenomon.</p>\n",
    "\n",
    "#### Advantages\n",
    "\n",
    "* It gives a more detailed and unique perspective of the phenomenon, allowing us to precisely analyse what the outcomes are instead of making baseless presumptions.\n",
    "    \n",
    "* It can predict how people will behave in potentially similar events.\n",
    "    \n",
    "* It can help professionals develop law's, new technologies and philosophies that help improve our lives(e.g. increase survival rate of ship passengers)\n",
    "    \n",
    "* Simulating these events is risk-free(No need to sink a ship for data analysis)\n",
    "\n",
    "#### Disadvantages\n",
    "\n",
    "* Researcher-induced bias can potentially cause wildly different interpretations of the data.\n",
    "    \n",
    "* A subjective analysis is necessary to derive meaning from the data set in social phenomenons.\n",
    "    \n",
    "* Social phenomonons can change over time due to cultural and technological differences which can make these simulations appear dated very quickly.\n",
    "    \n",
    "\n",
    "# 2. The Topic\n",
    "\n",
    "    \n",
    "## 2.1 A Brief History of the Titanic.\n",
    "    \n",
    "<p><img src=\"Images\\titanic_built.jpg\" alt=\"Titanic being built\" width=\"200\" align = \"right\"/>\n",
    "The Titanic was a British Passenger Liner built in Belfast in 1912. The ship had gained notoriety due to claims of it being \"unsinkable\", though shipbuilders claim it had not been marketed as such. It had a total capacity of 3,327 passengers and crew(3,547 according to other sources.), however, on its maiden voyage for which it had sunk, it carried a total of 2,224 passengers and crew of which Only 710 of those aboard survived and 1514 passengers had lost there lives on that voyage.\n",
    "</p>\n",
    "\n",
    "## 2.2 Explaining the dataset"
   ]
  },
  {
   "cell_type": "markdown",
   "id": "0957af78",
   "metadata": {},
   "source": [
    "# References\n",
    "\n",
    "1. Titanic_dataset csv by fyyying : https://gist.github.com/fyyying/4aa5b471860321d7b47fd881898162b7"
   ]
  }
 ],
 "metadata": {
  "kernelspec": {
   "display_name": "Python 3 (ipykernel)",
   "language": "python",
   "name": "python3"
  },
  "language_info": {
   "codemirror_mode": {
    "name": "ipython",
    "version": 3
   },
   "file_extension": ".py",
   "mimetype": "text/x-python",
   "name": "python",
   "nbconvert_exporter": "python",
   "pygments_lexer": "ipython3",
   "version": "3.9.7"
  }
 },
 "nbformat": 4,
 "nbformat_minor": 5
}
