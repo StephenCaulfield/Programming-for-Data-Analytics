{
 "cells": [
  {
   "cell_type": "markdown",
   "id": "242da76c",
   "metadata": {},
   "source": [
    "# 1.Introduction\n",
    "    \n",
    "<p> For This Project I will be sythesizing a data set which details the sinking of the Titanic and analyzing the survival rate of people based on age, gender and class and their relationships to eachother. I will detail later in my investigation that I have done to substanciate my findings.</p>\n",
    "\n",
    "## 1.1 Project Statement\n",
    "\n",
    "* This project code and report is implemented on Jupyter notebook.\n",
    "* I am to create a synthesized or simulated data set using a real world phenomenon of my choosing(Survivors of the Titanic).\n",
    "* I will use python with the numpy package to create the distribution models.\n",
    "* I will determine what distribution models I should use through research on the topic.\n",
    "* I will discuss the output of my analysis a make a determination as to it's significance.\n",
    "\n",
    "## 1.2 Reasons for Simulating Data\n",
    "<p>I will detail the advantages and disadvantages of simulating a data set to imitate social phenomon like the Titanic Sinking</p>\n",
    "\n",
    "### Advantages\n",
    "* It gives a more detailed and unique perspective of the phenomenon, allowing us to precisely analyse what the outcomes are instead of making baseless presumptions.\n",
    "* It can predict how people will behave in potentially similar events.\n",
    "* It can help professionals develop law's, new technologies and philosophies that help improve our lives(e.g. increase survival rate of ship passengers)\n",
    "* Simulating these events is risk-free(No need to sink a ship for data analysis)\n",
    "\n",
    "### Disadvantages\n",
    "* Researcher-induced bias can potentially cause wildly different interpretations of the data.\n",
    "* A subjective analysis is necessary to derive meaning from the data set in social phenomenons.\n",
    "* Social phenomonons can change over time due to cultural and technological differences which can make these simulations appear dated very quickly.\n",
    "\n",
    "\n",
    "# References\n",
    "1. Titanic_dataset csv by fyyying : https://gist.github.com/fyyying/4aa5b471860321d7b47fd881898162b7"
   ]
  },
  {
   "cell_type": "code",
   "execution_count": null,
   "id": "6e5fabb8",
   "metadata": {},
   "outputs": [],
   "source": []
  }
 ],
 "metadata": {
  "kernelspec": {
   "display_name": "Python 3 (ipykernel)",
   "language": "python",
   "name": "python3"
  },
  "language_info": {
   "codemirror_mode": {
    "name": "ipython",
    "version": 3
   },
   "file_extension": ".py",
   "mimetype": "text/x-python",
   "name": "python",
   "nbconvert_exporter": "python",
   "pygments_lexer": "ipython3",
   "version": "3.9.7"
  }
 },
 "nbformat": 4,
 "nbformat_minor": 5
}
